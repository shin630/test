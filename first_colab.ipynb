{
  "nbformat": 4,
  "nbformat_minor": 0,
  "metadata": {
    "colab": {
      "name": "first_colab.ipynb",
      "provenance": [],
      "collapsed_sections": [],
      "authorship_tag": "ABX9TyNnsQFbysl0xicx17P7WtOh",
      "include_colab_link": true
    },
    "kernelspec": {
      "name": "python3",
      "display_name": "Python 3"
    }
  },
  "cells": [
    {
      "cell_type": "markdown",
      "metadata": {
        "id": "view-in-github",
        "colab_type": "text"
      },
      "source": [
        "<a href=\"https://colab.research.google.com/github/yukinaga/minnano_ai/blob/master/section_1/first_colab.ipynb\" target=\"_parent\"><img src=\"https://colab.research.google.com/assets/colab-badge.svg\" alt=\"Open In Colab\"/></a>"
      ]
    },
    {
      "cell_type": "code",
      "metadata": {
        "id": "G91Tk-wSFdBE",
        "colab_type": "code",
        "colab": {}
      },
      "source": [
        "print(\"Hello World!\")"
      ],
      "execution_count": 0,
      "outputs": []
    },
    {
      "cell_type": "code",
      "metadata": {
        "id": "rKFsMt5AjXkD",
        "colab_type": "code",
        "colab": {}
      },
      "source": [
        "a = 3\n",
        "b = 4\n",
        "print(a + b)"
      ],
      "execution_count": 0,
      "outputs": []
    },
    {
      "cell_type": "markdown",
      "metadata": {
        "id": "iBnSVC9jsMV9",
        "colab_type": "text"
      },
      "source": [
        "**Python**で人工知能のコードを書いていきましょう。  \n",
        "**Colab**には*コードセル*と*テキストセル*があります。\n",
        "\n",
        "1.   リスト項目\n",
        "2.   リスト項目\n",
        "3. 番号付きの箇条書きです\n",
        "\n",
        "*   リスト項目\n",
        "*   リスト項目\n",
        "* 箇条書きです\n",
        "\n",
        "[Google検索](https://google.com)\n",
        "\n",
        "# みんなのAI講座\n",
        "## みんなのAI講座\n",
        "### みんなのAI講座\n",
        "#### みんなのAI講座\n",
        "##### みんなのAI講座"
      ]
    },
    {
      "cell_type": "markdown",
      "metadata": {
        "id": "qeENEIU5DK1x",
        "colab_type": "text"
      },
      "source": [
        "$$ y = 2x + 1 $$"
      ]
    }
  ]
}